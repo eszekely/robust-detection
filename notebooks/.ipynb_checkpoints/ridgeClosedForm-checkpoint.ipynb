{
 "cells": [
  {
   "cell_type": "code",
   "execution_count": null,
   "metadata": {},
   "outputs": [],
   "source": [
    "lambda_val = 5000\n",
    "lambdaVal = X_train.shape[0] * lambda_val / 2\n",
    "\n",
    "# Create a scaler object\n",
    "sc_X = StandardScaler(with_mean=True, with_std=True)\n",
    "sc_X_test = StandardScaler(with_mean=True, with_std=True)\n",
    "sc_y = StandardScaler(with_mean=True, with_std=True)\n",
    "sc_y_test = StandardScaler(with_mean=True, with_std=True)\n",
    "\n",
    "# Fit the scaler to the data and transform\n",
    "X_train_std = sc_X.fit_transform(X_train.values)\n",
    "X_test_std = sc_X_test.fit_transform(X_test.values)\n",
    "y_train_std = sc_y.fit_transform(y_train.values)\n",
    "y_test_std = sc_y_test.fit_transform(y_test.values)\n",
    "\n",
    "X = X_train_std\n",
    "Xt = X_test_std\n",
    "y = y_train\n",
    "y_test_true = y_test\n",
    "\n",
    "std_X_train = X_train.std(axis=0) # can also get it back from the scaler object\n",
    "\n",
    "n, p = X_train.shape\n",
    "# Regression\n",
    "coefStd = np.matmul(np.matmul(np.linalg.inv(np.matmul(np.transpose(X_train_std), X_train_std) + \\\n",
    "                                            lambdaVal * np.eye(p)), np.transpose(X_train_std)), y_train_std)\n",
    "# coefStd = np.matmul(np.matmul(np.linalg.inv(lambdaVal * np.eye(p)), np.transpose(X_train_std)), y_train_std)\n",
    "y_test_pred = np.matmul(X_test_std, coefStd) #regr.predict(Xt)\n",
    "\n",
    "rmse = np.sqrt(np.mean((y_test_std - y_test_pred)**2)) \n",
    "r2 = r2_score(y_test_std, y_test_pred)\n",
    "print(rmse)\n",
    "print(r2)\n",
    "\n",
    "fig, (ax1, ax2) = plt.subplots(1, 2, figsize = (17, 4))\n",
    "\n",
    "ax1.plot(y_test_std)\n",
    "ax1.plot(y_test_pred)\n",
    "ax1.set_title(\"No constraint --- $λ = $\" + str(lambda_val) + \" --- RMSE = \" + str(np.round(rmse,4)) + \\\n",
    "              \" --- R2 = \" + str(np.round(r2,4)))\n",
    "\n",
    "fig.sca(ax2)\n",
    "coefRaw = coefStd / np.array(std_X_train).reshape(X_train.shape[1], 1)\n",
    "plotBasemap_subplots(coefRaw.reshape(funcResolution(grid)), None, None);"
   ]
  },
  {
   "cell_type": "code",
   "execution_count": null,
   "metadata": {},
   "outputs": [],
   "source": [
    "fig, (ax1, ax2) = plt.subplots(1, 2, figsize = (12, 4))\n",
    "\n",
    "# Z = np.matmul(np.transpose(X_train_std), X_train_std) + 0 * np.eye(p)\n",
    "# im1 = ax1.imshow(Z)\n",
    "# fig.colorbar(im1, ax=ax1)\n",
    "# ax1.set_title(\"$\\lambda = 0$\")\n",
    "\n",
    "Z = np.matmul(np.transpose(X_train_std), X_train_std) + 5000 * np.eye(p)\n",
    "im2 = ax2.imshow(Z)\n",
    "fig.colorbar(im2, ax = ax2)\n",
    "ax2.set_title(\"$\\lambda = 5000$\");"
   ]
  },
  {
   "cell_type": "code",
   "execution_count": null,
   "metadata": {},
   "outputs": [],
   "source": [
    "corr = np.zeros(X_train.shape[1])\n",
    "corr = np.array([pearsonr(X_train.iloc[:,i], y_train.values.reshape(-1))[0] for i in range(corr.shape[0])])\n",
    "title = \"Raw correlation - \" + str(dataType) + \" - \" + forcing + \" forcing (\" + str(startDate) + \\\n",
    "                    \"-\" + str(endDate) + \")\"\n",
    "#filename = \"./../output/figures/figsPres/rcp85_volcanic_rawCorrelation_2005.eps\"\n",
    "plotBasemap(corr.reshape(funcResolution(grid)), title, None);"
   ]
  },
  {
   "cell_type": "code",
   "execution_count": null,
   "metadata": {},
   "outputs": [],
   "source": [
    "coefRaw = corr.reshape(-1,1) / np.array(std_X_train).reshape(X_train.shape[1], 1)\n",
    "plotBasemap(coefRaw.reshape(funcResolution(grid)), None, None);"
   ]
  },
  {
   "cell_type": "code",
   "execution_count": null,
   "metadata": {},
   "outputs": [],
   "source": [
    "cov = np.zeros(X_train.shape[1])\n",
    "cov = np.array([np.cov(X_train_std[:,i], y_train.values.reshape(-1))[0,1] for i in range(cov.shape[0])])\n",
    "plotBasemap(cov.reshape(funcResolution(grid)), title, None);"
   ]
  }
 ],
 "metadata": {
  "kernelspec": {
   "display_name": "Python 3",
   "language": "python",
   "name": "python3"
  },
  "language_info": {
   "codemirror_mode": {
    "name": "ipython",
    "version": 3
   },
   "file_extension": ".py",
   "mimetype": "text/x-python",
   "name": "python",
   "nbconvert_exporter": "python",
   "pygments_lexer": "ipython3",
   "version": "3.7.1"
  }
 },
 "nbformat": 4,
 "nbformat_minor": 2
}
