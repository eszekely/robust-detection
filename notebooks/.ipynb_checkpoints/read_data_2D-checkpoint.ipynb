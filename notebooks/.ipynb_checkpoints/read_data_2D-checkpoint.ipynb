{
 "cells": [
  {
   "cell_type": "code",
   "execution_count": 3,
   "metadata": {},
   "outputs": [],
   "source": [
    "# import matplotlib.pyplot as plt\n",
    "# import netCDF4\n",
    "# import numpy as np\n",
    "# import pandas as pd\n",
    "import sys\n",
    "# import os\n",
    "\n",
    "# from mpl_toolkits.basemap import Basemap\n",
    "\n",
    "sys.path.append(\"./../src/\")\n",
    "from functions import * \n",
    "\n",
    "%matplotlib inline"
   ]
  },
  {
   "cell_type": "markdown",
   "metadata": {},
   "source": [
    "### Read temperature 2D data\n",
    "\n",
    "Read the temperature from model simulations of RCP 4.5, RCP 8.5 or control runs. \n",
    "\n",
    "There are 38 RCP4.5 different models (one run for each, r1i1p1), 40 RCP8.5 models (one run for each, r1i1p1), and 42 piControl control runs (one run for each, r1i1p1)."
   ]
  },
  {
   "cell_type": "code",
   "execution_count": 5,
   "metadata": {},
   "outputs": [
    {
     "data": {
      "text/plain": [
       "['tas_ann_MRI-ESM1_rcp85_r1i1p1_g025.nc',\n",
       " 'tas_ann_bcc-csm1-1-m_rcp85_r1i1p1_g025.nc',\n",
       " 'tas_ann_IPSL-CM5A-MR_piControl_r1i1p1_g025.nc',\n",
       " 'tas_ann_HadGEM2-ES_piControl_r1i1p1_g025.nc',\n",
       " 'tas_ann_CanESM2_rcp85_r1i1p1_g025.nc',\n",
       " 'tas_ann_IPSL-CM5A-LR_piControl_r1i1p1_g025.nc',\n",
       " 'tas_ann_CMCC-CMS_piControl_r1i1p1_g025.nc',\n",
       " 'tas_ann_FGOALS-g2_piControl_r1i1p1_g025.nc',\n",
       " 'tas_ann_MPI-ESM-MR_rcp85_r1i1p1_g025.nc',\n",
       " 'tas_ann_bcc-csm1-1-m_piControl_r1i1p1_g025.nc',\n",
       " 'tas_ann_IPSL-CM5A-MR_rcp85_r1i1p1_g025.nc',\n",
       " 'tas_ann_GFDL-CM3_rcp85_r1i1p1_g025.nc',\n",
       " 'tas_ann_ACCESS1-3_piControl_r1i1p1_g025.nc',\n",
       " 'tas_ann_EC-EARTH_piControl_r1i1p1_g025.nc',\n",
       " 'tas_ann_GISS-E2-R_rcp85_r1i1p1_g025.nc',\n",
       " 'tas_ann_HadGEM2-ES_rcp85_r1i1p1_g025.nc',\n",
       " 'tas_ann_MPI-ESM-LR_piControl_r1i1p1_g025.nc',\n",
       " 'tas_ann_GISS-E2-H-CC_rcp85_r1i1p1_g025.nc',\n",
       " 'tas_ann_CNRM-CM5-2_piControl_r1i1p1_g025.nc',\n",
       " 'tas_ann_FIO-ESM_piControl_r1i1p1_g025.nc',\n",
       " 'tas_ann_CNRM-CM5_rcp85_r1i1p1_g025.nc',\n",
       " 'tas_ann_MPI-ESM-MR_piControl_r1i1p1_g025.nc',\n",
       " 'tas_ann_CESM1-CAM5-1-FV2_piControl_r1i1p1_g025.nc',\n",
       " 'tas_ann_HadGEM2-CC_rcp85_r1i1p1_g025.nc',\n",
       " 'tas_ann_CSIRO-Mk3-6-0_piControl_r1i1p1_g025.nc',\n",
       " 'tas_ann_inmcm4_rcp85_r1i1p1_g025.nc',\n",
       " 'tas_ann_CESM1-BGC_piControl_r1i1p1_g025.nc',\n",
       " 'tas_ann_MIROC-ESM_rcp85_r1i1p1_g025.nc',\n",
       " 'tas_ann_MRI-CGCM3_rcp85_r1i1p1_g025.nc',\n",
       " 'tas_ann_MIROC5_rcp85_r1i1p1_g025.nc',\n",
       " 'tas_ann_GFDL-CM3_piControl_r1i1p1_g025.nc',\n",
       " 'tas_ann_GISS-E2-R-CC_rcp85_r1i1p1_g025.nc',\n",
       " 'tas_ann_GFDL-ESM2G_rcp85_r1i1p1_g025.nc',\n",
       " 'tas_ann_CNRM-CM5_piControl_r1i1p1_g025.nc',\n",
       " 'tas_ann_IPSL-CM5B-LR_piControl_r1i1p1_g025.nc',\n",
       " 'tas_ann_MIROC-ESM-CHEM_piControl_r1i1p1_g025.nc',\n",
       " 'tas_ann_FGOALS-s2_piControl_r1i1p1_g025.nc',\n",
       " 'tas_ann_GFDL-ESM2G_piControl_r1i1p1_g025.nc',\n",
       " 'tas_ann_CESM1-BGC_rcp85_r1i1p1_g025.nc',\n",
       " 'tas_ann_FIO-ESM_rcp85_r1i1p1_g025.nc',\n",
       " 'tas_ann_MPI-ESM-P_piControl_r1i1p1_g025.nc',\n",
       " 'tas_ann_NorESM1-M_piControl_r1i1p1_g025.nc',\n",
       " 'tas_ann_ACCESS1-3_rcp85_r1i1p1_g025.nc',\n",
       " 'tas_ann_GFDL-ESM2M_rcp85_r1i1p1_g025.nc',\n",
       " 'tas_ann_inmcm4_piControl_r1i1p1_g025.nc',\n",
       " 'tas_ann_GFDL-ESM2M_piControl_r1i1p1_g025.nc',\n",
       " 'tas_ann_NorESM1-ME_rcp85_r1i1p1_g025.nc',\n",
       " 'tas_ann_GISS-E2-H-CC_piControl_r1i1p1_g025.nc',\n",
       " 'tas_ann_CSIRO-Mk3-6-0_rcp85_r1i1p1_g025.nc',\n",
       " 'tas_ann_ACCESS1-0_rcp85_r1i1p1_g025.nc',\n",
       " 'tas_ann_FGOALS-g2_rcp85_r1i1p1_g025.nc',\n",
       " 'tas_ann_CMCC-CESM_piControl_r1i1p1_g025.nc',\n",
       " 'tas_ann_CMCC-CMS_rcp85_r1i1p1_g025.nc',\n",
       " 'tas_ann_GISS-E2-R-CC_piControl_r1i1p1_g025.nc',\n",
       " 'tas_ann_CCSM4_piControl_r1i1p1_g025.nc',\n",
       " 'tas_ann_EC-EARTH_rcp85_r1i1p1_g025.nc',\n",
       " 'tas_ann_BNU-ESM_rcp85_r1i1p1_g025.nc',\n",
       " 'tas_ann_HadGEM2-AO_rcp85_r1i1p1_g025.nc',\n",
       " 'tas_ann_CESM1-CAM5_rcp85_r1i1p1_g025.nc',\n",
       " 'tas_ann_bcc-csm1-1_piControl_r1i1p1_g025.nc',\n",
       " 'tas_ann_BNU-ESM_piControl_r1i1p1_g025.nc',\n",
       " 'tas_ann_IPSL-CM5A-LR_rcp85_r1i1p1_g025.nc',\n",
       " 'tas_ann_CanESM2_piControl_r1i1p1_g025.nc',\n",
       " 'tas_ann_GISS-E2-H_rcp85_r1i1p1_g025.nc',\n",
       " 'tas_ann_NorESM1-M_rcp85_r1i1p1_g025.nc',\n",
       " 'tas_ann_ACCESS1-0_piControl_r1i1p1_g025.nc',\n",
       " 'tas_ann_CMCC-CESM_rcp85_r1i1p1_g025.nc',\n",
       " 'tas_ann_MPI-ESM-LR_rcp85_r1i1p1_g025.nc',\n",
       " 'tas_ann_CESM1-CAM5_piControl_r1i1p1_g025.nc',\n",
       " 'tas_ann_MIROC-ESM_piControl_r1i1p1_g025.nc',\n",
       " 'tas_ann_IPSL-CM5B-LR_rcp85_r1i1p1_g025.nc',\n",
       " 'tas_ann_CMCC-CM_rcp85_r1i1p1_g025.nc',\n",
       " 'tas_ann_HadGEM2-AO_piControl_r1i1p1_g025.nc',\n",
       " 'tas_ann_CMCC-CM_piControl_r1i1p1_g025.nc',\n",
       " 'tas_ann_NorESM1-ME_piControl_r1i1p1_g025.nc',\n",
       " 'tas_ann_CESM1-FASTCHEM_piControl_r1i1p1_g025.nc',\n",
       " 'tas_ann_CCSM4_rcp85_r1i1p1_g025.nc',\n",
       " 'tas_ann_MIROC5_piControl_r1i1p1_g025.nc',\n",
       " 'tas_ann_bcc-csm1-1_rcp85_r1i1p1_g025.nc',\n",
       " 'tas_ann_MRI-CGCM3_piControl_r1i1p1_g025.nc',\n",
       " 'tas_ann_HadGEM2-CC_piControl_r1i1p1_g025.nc',\n",
       " 'tas_ann_MIROC-ESM-CHEM_rcp85_r1i1p1_g025.nc']"
      ]
     },
     "execution_count": 5,
     "metadata": {},
     "output_type": "execute_result"
    }
   ],
   "source": [
    "var = \"tas\"\n",
    "temporalRes = \"ann\"\n",
    "scenarios = [\"rcp85\", \"piControl\"]\n",
    "startDate, endDate = 1870, 2100\n",
    "\n",
    "modelDataList, modelsInfoFrame = readFiles(var, temporalRes, scenarios, startDate, endDate, norm = True)\n",
    "\n",
    "files = list(set([modelDataList[i].filename for i in range(len(modelDataList))]))\n",
    "[files[i] for i in range(len(files))]"
   ]
  },
  {
   "cell_type": "code",
   "execution_count": null,
   "metadata": {},
   "outputs": [],
   "source": []
  }
 ],
 "metadata": {
  "kernelspec": {
   "display_name": "Python 3",
   "language": "python",
   "name": "python3"
  },
  "language_info": {
   "codemirror_mode": {
    "name": "ipython",
    "version": 3
   },
   "file_extension": ".py",
   "mimetype": "text/x-python",
   "name": "python",
   "nbconvert_exporter": "python",
   "pygments_lexer": "ipython3",
   "version": "3.7.1"
  }
 },
 "nbformat": 4,
 "nbformat_minor": 2
}
