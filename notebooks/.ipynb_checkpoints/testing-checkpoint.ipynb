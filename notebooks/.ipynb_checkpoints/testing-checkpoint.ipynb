{
 "cells": [
  {
   "cell_type": "code",
   "execution_count": 1,
   "metadata": {},
   "outputs": [],
   "source": [
    "import numpy as np\n",
    "import random\n",
    "import pandas as pd\n",
    "import sys\n",
    "import matplotlib.pyplot as plt\n",
    "sys.path.append(\"./../src/\")\n",
    "from functions import funcNbModels, funcResolution, repeatModelRadForcing, plotBasemap\n",
    "\n",
    "%matplotlib inline"
   ]
  },
  {
   "cell_type": "code",
   "execution_count": 15,
   "metadata": {},
   "outputs": [
    {
     "name": "stdout",
     "output_type": "stream",
     "text": [
      "[1, 23, 27, 32, 17]\n",
      "[ 1 17 23 27 32]\n"
     ]
    }
   ],
   "source": [
    "r = random.sample(range(1,40),5)\n",
    "print(r)\n",
    "print(np.unique(r))"
   ]
  },
  {
   "cell_type": "code",
   "execution_count": 92,
   "metadata": {},
   "outputs": [],
   "source": [
    "startDate, endDate, rcp, grid, forcing = 1870, 2100, 85, 20, \"anthro\"\n",
    "filename_data = \"./../output/data/temperature_RCP\" + str(rcp) + \"_scaling\" + str(grid).zfill(2) + \"_\" + \\\n",
    "                str(startDate) + \"_\" + str(endDate) + \"_\" + str(funcNbModels(rcp)) + \"models.pkl\"\n",
    "data_df = pd.read_pickle(filename_data)"
   ]
  },
  {
   "cell_type": "code",
   "execution_count": 16,
   "metadata": {},
   "outputs": [
    {
     "name": "stdout",
     "output_type": "stream",
     "text": [
      "1\n",
      "23\n",
      "27\n",
      "32\n",
      "17\n"
     ]
    }
   ],
   "source": [
    "for i in range(5):\n",
    "    print(r[i])"
   ]
  },
  {
   "cell_type": "code",
   "execution_count": null,
   "metadata": {
    "collapsed": true
   },
   "outputs": [],
   "source": []
  },
  {
   "cell_type": "code",
   "execution_count": 101,
   "metadata": {},
   "outputs": [],
   "source": [
    "lm = np.setdiff1d(la,m)"
   ]
  }
 ],
 "metadata": {
  "kernelspec": {
   "display_name": "Python 3",
   "language": "python",
   "name": "python3"
  },
  "language_info": {
   "codemirror_mode": {
    "name": "ipython",
    "version": 3
   },
   "file_extension": ".py",
   "mimetype": "text/x-python",
   "name": "python",
   "nbconvert_exporter": "python",
   "pygments_lexer": "ipython3",
   "version": "3.6.5"
  }
 },
 "nbformat": 4,
 "nbformat_minor": 2
}
